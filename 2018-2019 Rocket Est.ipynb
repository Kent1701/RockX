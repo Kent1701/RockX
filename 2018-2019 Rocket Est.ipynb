{
 "cells": [
  {
   "cell_type": "code",
   "execution_count": 1,
   "metadata": {},
   "outputs": [],
   "source": [
    "from numpy import *\n",
    "import matplotlib.pyplot as plt\n",
    "%matplotlib inline\n",
    "import re\n",
    "from scipy import interpolate\n",
    "from scipy.interpolate import interp1d\n",
    "from scipy.integrate import quad"
   ]
  },
  {
   "cell_type": "code",
   "execution_count": 2,
   "metadata": {},
   "outputs": [],
   "source": [
    "class color:\n",
    "    BOLD = '\\033[1m'\n",
    "    UNDERLINE = '\\033[4m'\n",
    "    END = '\\033[0m'"
   ]
  },
  {
   "cell_type": "code",
   "execution_count": 3,
   "metadata": {},
   "outputs": [],
   "source": [
    "#Define motor class\n",
    "class Motor:\n",
    "    def __init__(self, name):\n",
    "            file_name = name + '.txt'\n",
    "            words = []\n",
    "\n",
    "            #read the text file and split by word\n",
    "            with open(file_name, 'r') as f:\n",
    "                for line in f:\n",
    "                    for word in line.split():\n",
    "                        words.append(word)\n",
    "\n",
    "            #search word array for the keyword total get index of value 2 words later\n",
    "            motorTotalWeightIndex = words.index(\"total\") + 2\n",
    "\n",
    "            #search word array for keyword propellant get index of value 2 words later\n",
    "            motorPropWeightIndex = words.index(\"propellant\") + 2\n",
    "\n",
    "            mTWSTR = words[motorTotalWeightIndex]\n",
    "            mPWSTR = words[motorPropWeightIndex]\n",
    "\n",
    "            #extract the value as an int from the word entry\n",
    "            motorTotalWeight = int(re.search(r'\\d+', mTWSTR).group())\n",
    "            motorPropellantWeight = int(re.search(r'\\d+', mPWSTR).group())\n",
    "            \n",
    "            self.name = name\n",
    "            self.wetMass = motorTotalWeight\n",
    "            self.propMass = motorPropellantWeight\n",
    "            self.dryMass = motorTotalWeight - motorPropellantWeight\n",
    "            \n",
    "            #search the data for the thrust cure, interp 1D and add 0 line to -time and after MECO\n",
    "            lines = [] #Declare an empty list named \"lines\"\n",
    "            i = 0\n",
    "            with open (file_name, 'rt') as in_file:  #Open file lorem.txt for reading of text data.\n",
    "                for line in in_file: #For each line of text store in a string variable named \"line\", and\n",
    "                    dataPoint = map(float, re.findall(r'\\d+', line))\n",
    "                    dataPointint = fromiter(dataPoint, dtype=float)\n",
    "                    i = i + 1\n",
    "                    if (len(dataPointint) > 2) & (i>4):\n",
    "                        dataPointTogetherTime = dataPointint[0] + 0.01*dataPointint[1]\n",
    "\n",
    "                        dataPointTogetherThrust = dataPointint[2] + 0.01*dataPointint[3]\n",
    "\n",
    "                        #print(dataPointint)\n",
    "\n",
    "\n",
    "                        lines.append([dataPointTogetherTime, dataPointTogetherThrust])  #add that line to our list of lines.\n",
    "\n",
    "            linescon = concatenate(lines, axis=0 )\n",
    "\n",
    "            times = linescon[0:][::2]\n",
    "            \n",
    "            self.timepoints = times\n",
    "            \n",
    "            thrust = linescon[1:][::2]\n",
    "            \n",
    "            self.thrustpoints = thrust\n",
    "            \n",
    "            testtime = linspace(0,5,100)\n",
    "\n",
    "            thrustInterp = interp1d(times,thrust, fill_value = (0,0), bounds_error=False)\n",
    "            \n",
    "            self.ThrustCurve = thrustInterp\n",
    "            \n",
    "            #Total Impulse Calc\n",
    "            totalImpulse = quad(self.ThrustCurve, min(self.timepoints), max(self.timepoints))\n",
    "            \n",
    "            self.totalI = totalImpulse[0]\n",
    "            \n",
    "            self.ISP = self.totalI / (self.propMass*(10**-3) * 9.8) #Ns/N\n",
    "            \n",
    "    def printspecs(self): #function to print motor specs\n",
    "        print('Motor:', color.BOLD , self , color.END)\n",
    "        print('Wet Mass:', self.wetMass, 'g')\n",
    "        print('Prop Mass:', self.propMass, 'g')\n",
    "        print('Dry Mass:', self.dryMass, 'g \\n')\n",
    "    def plotThrustCurve(self): #function to plot thrustcurve\n",
    "        testtime = linspace(0,max(self.timepoints),100)\n",
    "        plt.plot(self.timepoints,self.thrustpoints, '.', color='red', label = self.name + ' data points')\n",
    "        plt.plot(testtime,self.ThrustCurve(testtime), label= self.name + ' Interp Thrust Curve')\n",
    "        plt.legend()\n",
    "        plt.grid()\n",
    "\n",
    "    def __str__(self):\n",
    "            return self.name #return name when print is called"
   ]
  },
  {
   "cell_type": "code",
   "execution_count": 4,
   "metadata": {},
   "outputs": [
    {
     "name": "stderr",
     "output_type": "stream",
     "text": [
      "/anaconda3/lib/python3.6/site-packages/scipy/integrate/quadpack.py:364: IntegrationWarning: The maximum number of subdivisions (50) has been achieved.\n",
      "  If increasing the limit yields no improvement it is advised to analyze \n",
      "  the integrand in order to determine the difficulties.  If the position of a \n",
      "  local difficulty can be determined (singularity, discontinuity) one will \n",
      "  probably gain from splitting up the interval and calling the integrator \n",
      "  on the subranges.  Perhaps a special-purpose integrator should be used.\n",
      "  warnings.warn(msg, IntegrationWarning)\n"
     ]
    }
   ],
   "source": [
    "#Motor Library\n",
    "#Ensure that this name is the same as the motor spec .txt file saved in same directory\n",
    "#Files must be in the CompuRoc (.txt) format\n",
    "\n",
    "J420 = Motor('AeroTech_J420')\n",
    "J315 = Motor('AeroTech_J315')\n",
    "J275 = Motor('AeroTech_J275')\n",
    "J460 = Motor('AeroTech_J460')\n",
    "J800 = Motor('AeroTech_J800')\n",
    "K185 = Motor('AeroTech_K185')\n",
    "K535 = Motor('AeroTech_K535')"
   ]
  },
  {
   "cell_type": "code",
   "execution_count": 5,
   "metadata": {},
   "outputs": [],
   "source": [
    "#Define parachute class\n",
    "class Parachute:\n",
    "    def __init__(self, diameter, mass, CD, name):\n",
    "            self.d = diameter\n",
    "            self.area = pi*(diameter/2)**2\n",
    "            self.m = mass\n",
    "            self.Cd = CD\n",
    "            self.name = name\n",
    "    def printspecs(self):\n",
    "        print('Parachute:', color.BOLD , self , color.END)\n",
    "        print('     Diameter:', self.d, 'in')\n",
    "        print('     Area:', round(self.area,2), 'in2')\n",
    "        print('     Mass:', self.m, 'g')\n",
    "        print('     CD:', self.Cd)\n",
    "    def __str__(self):\n",
    "            return self.name"
   ]
  },
  {
   "cell_type": "code",
   "execution_count": 6,
   "metadata": {},
   "outputs": [],
   "source": [
    "#Parachute Library\n",
    "\n",
    "#Drogue Parachute Options\n",
    "FruityChute15 = Parachute(15,43,1.5, \"FruityChute15\")\n",
    "FruityChute18 = Parachute(18,60,1.5, \"FruityChute18\")\n",
    "\n",
    "#Main Parachute Options\n",
    "FruityChute48Iris = Parachute(48,212.62,2.2, \"FruityChute48Iris\")\n",
    "FruityChute60Iris = Parachute(60,309,2.2, \"FruityChute60Iris\")"
   ]
  },
  {
   "cell_type": "code",
   "execution_count": 7,
   "metadata": {},
   "outputs": [],
   "source": [
    "drogueChuteSelected = FruityChute15\n",
    "mainChuteSelected = FruityChute60Iris\n",
    "motorSelected = J420"
   ]
  },
  {
   "cell_type": "code",
   "execution_count": 15,
   "metadata": {},
   "outputs": [
    {
     "name": "stdout",
     "output_type": "stream",
     "text": [
      "payload sim mass 333.07199999999995 g\n"
     ]
    }
   ],
   "source": [
    "#Pre-Build Rocket Mass and CG Approximations\n",
    "\n",
    "rocketOD = 3.05\n",
    "rocketID = 3\n",
    "couplerID = 2.87\n",
    "motorTubeOD = 1.6\n",
    "motorTubeID = 1.52\n",
    "blueTubeCouplerLinearDensity75mm = 78.4/8 #g/in\n",
    "PLA3DprintsDenisty = 20.3 #g/in3\n",
    "avionicsSledApproximateArea = 2*(3/8)\n",
    "avionicsSledApproximateLinearDensity = avionicsSledApproximateArea*PLA3DprintsDenisty\n",
    "\n",
    "#Airframe\n",
    "motorSection = 22\n",
    "lowerADASOverlap = 6\n",
    "ADASRing = 1\n",
    "upperADASOverlap = 6\n",
    "parachuteSpace = 16\n",
    "RecoveryChargeSpace = 1\n",
    "lowerRecoveryOverlap = 3\n",
    "recoveryRing = 1\n",
    "upperRecoveryOverlap = 3\n",
    "payloadChargeSpace = 1\n",
    "payloadSectionLength = 15\n",
    "\n",
    "rocketBody = motorSection + lowerADASOverlap + ADASRing + upperADASOverlap + parachuteSpace \\\n",
    "    + RecoveryChargeSpace + lowerRecoveryOverlap + recoveryRing + upperRecoveryOverlap + payloadChargeSpace\\\n",
    "    + payloadSectionLength\n",
    "\n",
    "CFAirframeLinearDensity = 1088/72 #g/in #MEASURE THIS\n",
    "airframeMass = rocketBody*CFAirframeLinearDensity\n",
    "\n",
    "airframeComponent = [airframeMass,(rocketBody/2)]\n",
    "#each component will include the mass and position from the tail of the rocket for CG calculations\n",
    "\n",
    "#Motor tube\n",
    "motorTube = 22\n",
    "fiberglassMotorTubeLinearDensity38mm = 273/48 #g/in\n",
    "motorTubeMass = motorTube*fiberglassMotorTubeLinearDensity38mm\n",
    "motorTubeComponent = [motorTubeMass,(motorTube/2)]\n",
    "\n",
    "#Centering rings\n",
    "CRArea = pi*((rocketID/2)**2 - (motorTubeOD/2)**2)\n",
    "#Particle Board\n",
    "CRthickness = 3/8\n",
    "PBDensity = 12.3 #g/in3\n",
    "CRMass = CRArea*CRthickness*PBDensity\n",
    "#Aluminum\n",
    "'''\n",
    "CRthickness = 1/8\n",
    "AlDensity = 45\n",
    "CRMass = CRArea*CRthickness*AlDensity\n",
    "'''\n",
    "#There will be 3 fixed CRs, and one clamping centered about the motor tube\n",
    "CRComponent = [CRMass,(motorTube/2)]\n",
    "\n",
    "#ADAS\n",
    "ADASLength = lowerADASOverlap + ADASRing + upperADASOverlap\n",
    "ADASCouplerMass = (ADASLength)*blueTubeCouplerLinearDensity75mm\n",
    "ADASMotorMass = 340\n",
    "ADASSledMass = (ADASLength)*avionicsSledApproximateLinearDensity\n",
    "ADASBulkheads = 2*PBDensity*pi*(rocketID/2)**2\n",
    "ADASBattery = 169\n",
    "ADASAvionics = 100 #? measure?\n",
    "ADASMass = ADASCouplerMass + ADASMotorMass + ADASSledMass +ADASBulkheads + ADASBattery + ADASAvionics\n",
    "ADASComponent = [ADASMass,motorTube + (ADASLength/2)]\n",
    "\n",
    "\n",
    "#Parachutes\n",
    "drogueMass = drogueChuteSelected.m\n",
    "mainMass = mainChuteSelected.m\n",
    "chuteReleaseMass = 17.5\n",
    "parachuteMass = drogueMass + mainMass + chuteReleaseMass*2\n",
    "parachutesComponent = [parachuteMass, motorTube + ADASLength + (parachuteSpace/2)]\n",
    "\n",
    "#Recovery\n",
    "recoveryLength = lowerRecoveryOverlap + recoveryRing + upperRecoveryOverlap\n",
    "recoverySledMass = (recoveryLength)*avionicsSledApproximateLinearDensity\n",
    "recoveryBulkheads = 2*PBDensity*pi*(rocketID/2)**2\n",
    "recovery9vmass = 40\n",
    "recoveryAvionics = 10.7 + 10\n",
    "recoveryMass = recoverySledMass + recoveryBulkheads + recovery9vmass*2 + recoveryAvionics\n",
    "recoveryComponent = [recoveryMass, motorTube + ADASLength + parachuteSpace + RecoveryChargeSpace + (recoveryLength/2)]\n",
    "\n",
    "#Payload\n",
    "payloadMassApprox = 1542*(3/5)**3 #scaled as volume (e.g. density)\n",
    "payloadComponent = [payloadMassApprox, motorTube + ADASLength + parachuteSpace + RecoveryChargeSpace + recoveryLength + payloadChargeSpace + (payloadSectionLength/2)]\n",
    "print('payload sim mass', payloadMassApprox, 'g')\n",
    "\n",
    "#Nose Cone\n",
    "noseCone = 363\n",
    "GPS = 20\n",
    "ABS = (6)*avionicsSledApproximateLinearDensity\n",
    "GPS_Bat = 68\n",
    "noseConeMass = noseCone + GPS + ABS + GPS_Bat\n",
    "noseConeLength = 13.13\n",
    "noseConeComponent = [noseConeMass,rocketBody-(noseConeLength/2)]\n",
    "\n",
    "#Rocket Without Fins\n",
    "rocketSegments = []\n",
    "rocketSegments.extend(airframeComponent)\n",
    "rocketSegments.extend(motorTubeComponent)\n",
    "rocketSegments.extend(CRComponent)\n",
    "rocketSegments.extend(ADASComponent)\n",
    "rocketSegments.extend(parachutesComponent)\n",
    "rocketSegments.extend(recoveryComponent)\n",
    "rocketSegments.extend(payloadComponent)\n",
    "rocketSegments.extend(noseConeComponent)\n",
    "\n",
    "segmentMasses = array(rocketSegments[0:][::2])\n",
    "segmentCGs = array(rocketSegments[1:][::2])\n",
    "\n",
    "CG_noFins = (sum(segmentMasses * segmentCGs))/(sum(segmentMasses)) #in\n",
    "rocketMass_noFins = sum(segmentMasses) #g\n"
   ]
  },
  {
   "cell_type": "code",
   "execution_count": 16,
   "metadata": {},
   "outputs": [
    {
     "name": "stdout",
     "output_type": "stream",
     "text": [
      "Planned Ballast: 302.5188374872772\n",
      "Rocket Mass (No Fins With 50% Max Ballast): 4336.10333731764 g\n",
      "Rocket CG (No Fins With 50% Max Ballast): 45.15564532727694 in\n"
     ]
    }
   ],
   "source": [
    "#adding Ballast 10% max\n",
    "Max_Ballast = 0.1 * rocketMass_noFins\n",
    "Planned_Ballast = 0.075 * rocketMass_noFins #room to adjust\n",
    "print('Planned Ballast:', Planned_Ballast)\n",
    "\n",
    "#Move Ballast to nosecone\n",
    "rocketMass_noFins_withBallast = rocketMass_noFins + Planned_Ballast\n",
    "Ballast_Location = motorTube + ADASLength + parachuteSpace + RecoveryChargeSpace + recoveryLength + payloadChargeSpace + payloadSectionLength\n",
    "CG_noFins_withBallast = (rocketMass_noFins*CG_noFins + Ballast_Location*Planned_Ballast)/(rocketMass_noFins_withBallast)\n",
    "\n",
    "print('Rocket Mass (No Fins With 50% Max Ballast):', rocketMass_noFins_withBallast, 'g')\n",
    "print('Rocket CG (No Fins With 50% Max Ballast):', CG_noFins_withBallast, 'in')"
   ]
  },
  {
   "cell_type": "code",
   "execution_count": 17,
   "metadata": {},
   "outputs": [
    {
     "name": "stdout",
     "output_type": "stream",
     "text": [
      "Rocket Static Stbility Marigin: 2.165530058480017\n",
      "\n",
      "Fin Shape\n",
      "Fin Span: 3.375\n"
     ]
    },
    {
     "data": {
      "text/plain": [
       "(-6.9, 12.9, -0.16875, 3.54375)"
      ]
     },
     "execution_count": 17,
     "metadata": {},
     "output_type": "execute_result"
    },
    {
     "data": {
      "image/png": "[encoded data removed]",
      "text/plain": [
       "<matplotlib.figure.Figure at 0x10d41dba8>"
      ]
     },
     "metadata": {},
     "output_type": "display_data"
    }
   ],
   "source": [
    "#Fin Optimization\n",
    "'''\n",
    " ______________     _\n",
    " \\             \\     |\n",
    "  \\             \\    | Fin Span\n",
    "   \\_____________\\  _|\n",
    "         RC\n",
    "Fin Shape:45deg parallelogram\n",
    "RC:Root Chord\n",
    "'''\n",
    "RC = 12\n",
    "\n",
    "#finding center of areas\n",
    "#Rocket Body\n",
    "bodyArea = rocketOD * rocketBody\n",
    "centerOfRocketBodyArea = rocketBody/2\n",
    "\n",
    "noseconeArea = (rocketOD*noseConeLength)/2\n",
    "noseconeCenterOfArea = rocketBody + (noseConeLength/2)\n",
    "\n",
    "finArea = 12*(3+3/8) #????\n",
    "finCenterOfArea = RC*(1/4) #/2 if symmetric, /4 for parallelogram design\n",
    "\n",
    "CP = (bodyArea*centerOfRocketBodyArea + noseconeArea*noseconeCenterOfArea + 2*finArea*finCenterOfArea) / (bodyArea + noseconeArea + 2*finArea)\n",
    "\n",
    "targetStabilityMarigin = 2.25 #2 minimum, give ourselves room\n",
    "\n",
    "surfaceDensityOfFinMaterial = 14.7484/2 * 0.25 #14.7484 * 0.25 #0.25 in thick ABS #g/in2 #1/4 thick fiberglass 1162.1/(12**2) \n",
    "\n",
    "finMass = surfaceDensityOfFinMaterial*finArea\n",
    "\n",
    "CG = (CG_noFins_withBallast*rocketMass_noFins_withBallast + (1+RC/2)*4*finMass + 7*motorSelected.wetMass)/(rocketMass_noFins_withBallast + 4*finMass + motorSelected.wetMass)\n",
    "#the 7 is from half the motor length\n",
    "\n",
    "rocketDryMass = rocketMass_noFins_withBallast + 4*finMass\n",
    "rocketWetMass = rocketDryMass + motorSelected.wetMass\n",
    "dryCG = (CG_noFins_withBallast*rocketMass_noFins_withBallast + (1+RC/2)*4*finMass)/(rocketMass_noFins_withBallast + 4*finMass)\n",
    "\n",
    "\n",
    "\n",
    "\n",
    "stabilityMarigin = (CG-CP)/rocketOD\n",
    "\n",
    "print('Rocket Static Stbility Marigin:', stabilityMarigin)\n",
    "\n",
    "#shape simple srectangle and square\n",
    "# A = 3/2 * 6 * len\n",
    "# A/6 * 2/3 = len\n",
    "# len = A/9\n",
    "finSpan = finArea/12\n",
    "print('\\nFin Shape')\n",
    "print('Fin Span:',finSpan)\n",
    "\n",
    "plt.plot([0,-RC/2,RC/2,RC],[0,finSpan,finSpan,0])\n",
    "plt.axis('equal')"
   ]
  },
  {
   "cell_type": "code",
   "execution_count": 18,
   "metadata": {},
   "outputs": [
    {
     "name": "stdout",
     "output_type": "stream",
     "text": [
      "Rocket Dry Mass: 4634.76 g\n",
      "Rocket Dry CG: 42.7 in\n",
      "Rocket Wet Mass: 5284.76 g\n",
      "Rocket Wet CG: 38.31 in\n",
      "Rocket CP: 31.7 in\n",
      "Rocket Static Stbility Marigin: 2.165530058480017\n"
     ]
    },
    {
     "data": {
      "image/png": "[encoded data removed]",
      "text/plain": [
       "<matplotlib.figure.Figure at 0x10d522828>"
      ]
     },
     "metadata": {},
     "output_type": "display_data"
    }
   ],
   "source": [
    "#For fun plot rocket shape\n",
    "\n",
    "plt.plot([0,-RC/2,RC/2,RC,rocketBody-RC,rocketBody-RC+noseConeLength,rocketBody-RC,RC,RC/2,-RC/2,0,0],\n",
    "         [0,finSpan,finSpan,0,0,-rocketOD/2,-rocketOD,-rocketOD,-rocketOD-finSpan,-rocketOD-finSpan,-rocketOD,0], color='blue')\n",
    "plt.plot([0,RC],[0,0],'--',color='blue')\n",
    "plt.plot([0,RC],[-rocketOD,-rocketOD],'--',color='blue')\n",
    "plt.plot([-RC/2,RC],[-rocketOD/2,-rocketOD/2],color='blue')\n",
    "plt.plot(CG,-rocketOD/2,'o',color='black', label='CG')\n",
    "plt.plot(CP,-rocketOD/2,'o',color='red', label='CP')\n",
    "plt.axis('equal')\n",
    "plt.legend()\n",
    "\n",
    "print('Rocket Dry Mass:', round(rocketDryMass,2) , 'g')\n",
    "print('Rocket Dry CG:', round(dryCG,2) ,'in')\n",
    "print('Rocket Wet Mass:', round(rocketWetMass,2) , 'g')\n",
    "print('Rocket Wet CG:', round(CG,2) , 'in')\n",
    "print('Rocket CP:', round(CP,2) ,'in')\n",
    "print('Rocket Static Stbility Marigin:', stabilityMarigin)"
   ]
  },
  {
   "cell_type": "code",
   "execution_count": 19,
   "metadata": {},
   "outputs": [],
   "source": [
    "#define the rocket class\n",
    "class Rocket:\n",
    "    def __init__(self, name, diameter, dryMass, CP, dryCG, Cd):\n",
    "        self.name = name\n",
    "        self.diameter = diameter\n",
    "        self.CA = pi*(diameter/2)**2\n",
    "        self.dryMass = dryMass\n",
    "        self.CP = CP\n",
    "        self.dryCG = dryCG\n",
    "        self.Cd = Cd\n",
    "        self.dryStabilityMarigin = (self.dryCG - self.CP)/self.diameter\n",
    "        \n",
    "    def printspecs(self): #function to print motor specs\n",
    "        print('Rocket:', color.BOLD , self , color.END)\n",
    "        print('Diameter:', round(self.diameter,2), 'in')\n",
    "        print('Cross-Sectional Area', round(self.CA,2), 'in2')\n",
    "        print('Dry Mass:', round(self.dryMass,2), 'g')\n",
    "        print('CP:', round(self.CP,2), 'in')\n",
    "        print('Dry CG:', round(self.dryCG,2), 'in')\n",
    "        print('Cd:', round(self.Cd,2))\n",
    "        print('Dry Stanility Marigin:', round(self.dryStabilityMarigin,2))\n",
    "        \n",
    "\n",
    "    def __str__(self):\n",
    "            return self.name #return name when print is called"
   ]
  },
  {
   "cell_type": "code",
   "execution_count": 22,
   "metadata": {},
   "outputs": [
    {
     "data": {
      "text/plain": [
       "42.69696744257202"
      ]
     },
     "execution_count": 22,
     "metadata": {},
     "output_type": "execute_result"
    }
   ],
   "source": [
    "dryCG"
   ]
  },
  {
   "cell_type": "code",
   "execution_count": 23,
   "metadata": {},
   "outputs": [],
   "source": [
    "\n",
    "#Define Rocket Library\n",
    "\n",
    "Subscale2k18prediction = Rocket('Endavour',3,4634.75,31.7,42.7,0.44)\n",
    "#Subscale2k18prediction = Rocket('Endavour',3,rocketDryMass,CP,dryCG,0.44)\n",
    "#FullScale2k17 = Rocket('')\n",
    "Subscale2k17 = Rocket(\"She'll Be Right\",3,4.5e3,8*12-74.5,8*12-63.8,0.44)\n",
    "Fullscale2k17 = Rocket(\"Effective - 1\",3,5.14e3,94.75-74.4,94.75-59.8,0.44)"
   ]
  },
  {
   "cell_type": "code",
   "execution_count": 21,
   "metadata": {},
   "outputs": [
    {
     "name": "stdout",
     "output_type": "stream",
     "text": [
      "\u001b[4m ROCKET SELECTED: \u001b[0m\n",
      "Rocket: \u001b[1m Endavour \u001b[0m\n",
      "Diameter: 3 in\n",
      "Cross-Sectional Area 7.07 in2\n",
      "Dry Mass: 4634.76 g\n",
      "CP: 31.7 in\n",
      "Dry CG: 42.7 in\n",
      "Cd: 0.44\n",
      "Dry Stanility Marigin: 3.67\n",
      "\n",
      "\n",
      "\u001b[4m PARACHUTES SELECTED: \u001b[0m\n",
      "\u001b[1m  DROGUE: \u001b[0m\n",
      "Parachute: \u001b[1m FruityChute15 \u001b[0m\n",
      "     Diameter: 15 in\n",
      "     Area: 176.71 in2\n",
      "     Mass: 43 g\n",
      "     CD: 1.5\n",
      "\n",
      "  \u001b[1m MAIN: \u001b[0m\n",
      "Parachute: \u001b[1m FruityChute60Iris \u001b[0m\n",
      "     Diameter: 60 in\n",
      "     Area: 2827.43 in2\n",
      "     Mass: 309 g\n",
      "     CD: 2.2\n",
      "\n",
      "\n",
      "\u001b[4m MOTOR SELECTED: \u001b[0m\n",
      "Motor: \u001b[1m AeroTech_J420 \u001b[0m\n",
      "Wet Mass: 650 g\n",
      "Prop Mass: 376 g\n",
      "Dry Mass: 274 g \n",
      "\n"
     ]
    },
    {
     "data": {
      "image/png": "[encoded data removed]",
      "text/plain": [
       "<matplotlib.figure.Figure at 0x1808748710>"
      ]
     },
     "metadata": {},
     "output_type": "display_data"
    }
   ],
   "source": [
    "#Rocket Selection\n",
    "print(color.UNDERLINE, 'ROCKET SELECTED:', color.END)\n",
    "RocketSelected = Subscale2k18prediction\n",
    "RocketSelected.printspecs()\n",
    "\n",
    "print('\\n')\n",
    "\n",
    "#Parachute Selection\n",
    "drogueChuteSelected = FruityChute15\n",
    "mainChuteSelected = FruityChute60Iris\n",
    "\n",
    "print(color.UNDERLINE, 'PARACHUTES SELECTED:', color.END)\n",
    "\n",
    "print( color.BOLD ,' DROGUE:',color.END)\n",
    "drogueChuteSelected.printspecs()\n",
    "\n",
    "print('\\n ', color.BOLD, 'MAIN:', color.END)\n",
    "mainChuteSelected.printspecs()\n",
    "\n",
    "print('\\n')\n",
    "\n",
    "#Motor Selection\n",
    "print(color.UNDERLINE, 'MOTOR SELECTED:', color.END)\n",
    "motorSelected = J420\n",
    "\n",
    "motorSelected.printspecs()\n",
    "motorSelected.plotThrustCurve()\n",
    "\n"
   ]
  },
  {
   "cell_type": "code",
   "execution_count": 22,
   "metadata": {},
   "outputs": [
    {
     "name": "stdout",
     "output_type": "stream",
     "text": [
      "\u001b[1m SELECTED CONFIGURATION \u001b[0m\n",
      "Gross Lift Off Weight: 5.28 kg\n",
      "CP: 31.7 in\n",
      "CG: 38.31 in\n",
      "Static Stability Marigin: 2.28\n",
      "Thrust To Weight Ratio: 10.76\n"
     ]
    }
   ],
   "source": [
    "#Initial Conditions\n",
    "\n",
    "h = 0 #initial height\n",
    "v0 = 0 #initial velocity\n",
    "m0 = RocketSelected.dryMass + motorSelected.wetMass\n",
    "mMECO = RocketSelected.dryMass + motorSelected.dryMass\n",
    "\n",
    "windSpeedmph = 0#mph\n",
    "windSpeedms = windSpeedmph*0.44704 #m/s\n",
    "\n",
    "launchRailLengthft = 8 #ft\n",
    "launchRailLengthm = launchRailLengthft*0.3048 #m\n",
    "\n",
    "mainChuteReleaseAlt = 800 #ft\n",
    "launchRailLengthm = mainChuteReleaseAlt*0.3048 #m\n",
    "\n",
    "#Static Stability Marigin for Selected Rocket and Motor\n",
    "\n",
    "###USER INPUT REQUIRED###\n",
    "motorLength = 18 #in (This will vary with motor selection and not included in the thrust curve txt data....)\n",
    "\n",
    "CG0 = (RocketSelected.dryMass*RocketSelected.dryCG + (motorLength/2)*motorSelected.wetMass)/(RocketSelected.dryMass + motorSelected.wetMass)\n",
    "CP = RocketSelected.CP\n",
    "StaticStabilityMariginSelected = (CG0 - CP)/RocketSelected.diameter\n",
    "\n",
    "print(color.BOLD, \"SELECTED CONFIGURATION\", color.END)\n",
    "print(\"Gross Lift Off Weight:\",round(m0*(10**-3),2),'kg')\n",
    "print(\"CP:\",round(CP,2),'in')\n",
    "print(\"CG:\",round(CG,2),'in')\n",
    "print(\"Static Stability Marigin:\", round(StaticStabilityMariginSelected,2))\n",
    "thrustToWeightRatio = max(motorSelected.thrustpoints) / (m0*(10**-3)*9.8)\n",
    "print(\"Thrust To Weight Ratio:\", round(thrustToWeightRatio,2))"
   ]
  },
  {
   "cell_type": "code",
   "execution_count": 23,
   "metadata": {},
   "outputs": [],
   "source": [
    "#Thrust Equation\n",
    "#F = g0 * ISP * (dm/dt)\n",
    "#F(t)/(g0 * ISP) = dm/dt\n",
    "\n",
    "#Analytical Solution to mass function\n",
    "#m(t) = integral((t)/(g0 * ISP))dt + m0\n"
   ]
  },
  {
   "cell_type": "code",
   "execution_count": 24,
   "metadata": {},
   "outputs": [],
   "source": [
    "#integration method\n",
    "\n",
    "#phases, t0 to MECO, coast, then parachute descents\n",
    "\n",
    "#weather cocking factor based on stability marigin/fin area?"
   ]
  },
  {
   "cell_type": "code",
   "execution_count": 25,
   "metadata": {},
   "outputs": [
    {
     "data": {
      "text/plain": [
       "4908.75843731764"
      ]
     },
     "execution_count": 25,
     "metadata": {},
     "output_type": "execute_result"
    }
   ],
   "source": [
    "RocketSelected.dryMass + motorSelected.dryMass"
   ]
  },
  {
   "cell_type": "code",
   "execution_count": 26,
   "metadata": {},
   "outputs": [
    {
     "data": {
      "text/plain": [
       "50.470000000000006"
      ]
     },
     "execution_count": 26,
     "metadata": {},
     "output_type": "execute_result"
    }
   ],
   "source": [
    "5.15*9.8"
   ]
  },
  {
   "cell_type": "code",
   "execution_count": null,
   "metadata": {},
   "outputs": [],
   "source": []
  }
 ],
 "metadata": {
  "kernelspec": {
   "display_name": "Python 3",
   "language": "python",
   "name": "python3"
  },
  "language_info": {
   "codemirror_mode": {
    "name": "ipython",
    "version": 3
   },
   "file_extension": ".py",
   "mimetype": "text/x-python",
   "name": "python",
   "nbconvert_exporter": "python",
   "pygments_lexer": "ipython3",
   "version": "3.6.4"
  }
 },
 "nbformat": 4,
 "nbformat_minor": 2
}
