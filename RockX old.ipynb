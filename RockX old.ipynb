{
 "cells": [
  {
   "cell_type": "markdown",
   "metadata": {},
   "source": [
    "# RockX\n",
    "### A high powered model rocket simulation script written for the UCSC Rocket Team 2018-2019 SLI Entry\n",
    "##### by Kent Roberts"
   ]
  },
  {
   "cell_type": "code",
   "execution_count": 222,
   "metadata": {},
   "outputs": [],
   "source": [
    "from numpy import *\n",
    "import matplotlib.pyplot as plt\n",
    "%matplotlib inline\n",
    "import re\n",
    "from scipy import interpolate\n",
    "from scipy.interpolate import interp1d\n",
    "from scipy.integrate import quad"
   ]
  },
  {
   "cell_type": "code",
   "execution_count": 223,
   "metadata": {},
   "outputs": [],
   "source": [
    "class color:\n",
    "    BOLD = '\\033[1m'\n",
    "    UNDERLINE = '\\033[4m'\n",
    "    END = '\\033[0m'"
   ]
  },
  {
   "cell_type": "code",
   "execution_count": 279,
   "metadata": {},
   "outputs": [],
   "source": [
    "#Define motor class\n",
    "class Motor:\n",
    "    def __init__(self, name):\n",
    "            file_name = name + '.txt'\n",
    "            words = []\n",
    "\n",
    "            #read the text file and split by word\n",
    "            with open(file_name, 'r') as f:\n",
    "                for line in f:\n",
    "                    for word in line.split():\n",
    "                        words.append(word)\n",
    "\n",
    "            #search word array for the keyword total get index of value 2 words later\n",
    "            motorTotalWeightIndex = words.index(\"total\") + 2\n",
    "\n",
    "            #search word array for keyword propellant get index of value 2 words later\n",
    "            motorPropWeightIndex = words.index(\"propellant\") + 2\n",
    "\n",
    "            mTWSTR = words[motorTotalWeightIndex]\n",
    "            mPWSTR = words[motorPropWeightIndex]\n",
    "\n",
    "            #extract the value as an int from the word entry\n",
    "            motorTotalWeight = int(re.search(r'\\d+', mTWSTR).group())\n",
    "            motorPropellantWeight = int(re.search(r'\\d+', mPWSTR).group())\n",
    "            \n",
    "            self.name = name\n",
    "            self.wetMass = motorTotalWeight\n",
    "            self.propMass = motorPropellantWeight\n",
    "            self.dryMass = motorTotalWeight - motorPropellantWeight\n",
    "            \n",
    "            #search the data for the thrust cure, interp 1D and add 0 line to -time and after MECO\n",
    "            lines = [] #Declare an empty list named \"lines\"\n",
    "            i = 0\n",
    "            with open (file_name, 'rt') as in_file:  #Open file lorem.txt for reading of text data.\n",
    "                for line in in_file: #For each line of text store in a string variable named \"line\", and\n",
    "                    dataPoint = map(float, re.findall(r'\\d+', line))\n",
    "                    dataPointint = fromiter(dataPoint, dtype=float)\n",
    "                    i = i + 1\n",
    "                    if (len(dataPointint) > 2) & (i>4):\n",
    "                        dataPointTogetherTime = dataPointint[0] + 0.01*dataPointint[1]\n",
    "\n",
    "                        dataPointTogetherThrust = dataPointint[2] + 0.01*dataPointint[3]\n",
    "\n",
    "                        #print(dataPointint)\n",
    "\n",
    "\n",
    "                        lines.append([dataPointTogetherTime, dataPointTogetherThrust])  #add that line to our list of lines.\n",
    "\n",
    "            linescon = concatenate(lines, axis=0 )\n",
    "\n",
    "            times = linescon[0:][::2]\n",
    "            \n",
    "            self.timepoints = times\n",
    "            \n",
    "            thrust = linescon[1:][::2]\n",
    "            \n",
    "            self.thrustpoints = thrust\n",
    "            \n",
    "            testtime = linspace(0,5,100)\n",
    "\n",
    "            thrustInterp = interp1d(times,thrust, fill_value = (0,0), bounds_error=False)\n",
    "            \n",
    "            self.ThrustCurve = thrustInterp\n",
    "            \n",
    "            #Total Impulse Calc\n",
    "            totalImpulse = quad(self.ThrustCurve, min(self.timepoints), max(self.timepoints))\n",
    "            \n",
    "            self.totalI = totalImpulse[0]\n",
    "            \n",
    "            self.ISP = self.totalI / (self.propMass * (1e-3) * 9.8) #Ns/N\n",
    "            \n",
    "    def printspecs(self): #function to print motor specs\n",
    "        print('Motor:', color.BOLD , self , color.END)\n",
    "        print('Wet Mass:', self.wetMass, 'g')\n",
    "        print('Prop Mass:', self.propMass, 'g')\n",
    "        print('Dry Mass:', self.dryMass, 'g \\n')\n",
    "    def plotThrustCurve(self): #function to plot thrustcurve\n",
    "        testtime = linspace(0,max(self.timepoints),100)\n",
    "        plt.plot(self.timepoints,self.thrustpoints, '.', color='red', label = self.name + ' data points')\n",
    "        plt.plot(testtime,self.ThrustCurve(testtime), label= self.name + ' Interp Thrust Curve')\n",
    "        plt.legend()\n",
    "        plt.grid()\n",
    "\n",
    "    def __str__(self):\n",
    "            return self.name #return name when print is called"
   ]
  },
  {
   "cell_type": "code",
   "execution_count": 280,
   "metadata": {},
   "outputs": [
    {
     "name": "stderr",
     "output_type": "stream",
     "text": [
      "/anaconda3/lib/python3.6/site-packages/scipy/integrate/quadpack.py:364: IntegrationWarning: The maximum number of subdivisions (50) has been achieved.\n",
      "  If increasing the limit yields no improvement it is advised to analyze \n",
      "  the integrand in order to determine the difficulties.  If the position of a \n",
      "  local difficulty can be determined (singularity, discontinuity) one will \n",
      "  probably gain from splitting up the interval and calling the integrator \n",
      "  on the subranges.  Perhaps a special-purpose integrator should be used.\n",
      "  warnings.warn(msg, IntegrationWarning)\n"
     ]
    }
   ],
   "source": [
    "#Motor Library\n",
    "#Ensure that this name is the same as the motor spec .txt file saved in same directory\n",
    "#Files must be in the CompuRoc (.txt) format\n",
    "\n",
    "J420 = Motor('AeroTech_J420')\n",
    "J315 = Motor('AeroTech_J315')\n",
    "J275 = Motor('AeroTech_J275')\n",
    "J460 = Motor('AeroTech_J460')\n",
    "J800 = Motor('AeroTech_J800')\n",
    "K185 = Motor('AeroTech_K185')\n",
    "K535 = Motor('AeroTech_K535')"
   ]
  },
  {
   "cell_type": "code",
   "execution_count": 281,
   "metadata": {},
   "outputs": [],
   "source": [
    "#Define parachute class\n",
    "class Parachute:\n",
    "    def __init__(self, diameter, mass, CD, name):\n",
    "            self.d = diameter\n",
    "            self.area = pi*(diameter/2)**2\n",
    "            self.m = mass\n",
    "            self.Cd = CD\n",
    "            self.name = name\n",
    "    def printspecs(self):\n",
    "        print('Parachute:', color.BOLD , self , color.END)\n",
    "        print('     Diameter:', self.d, 'in')\n",
    "        print('     Area:', round(self.area,2), 'in2')\n",
    "        print('     Mass:', self.m, 'g')\n",
    "        print('     CD:', self.Cd)\n",
    "    def __str__(self):\n",
    "            return self.name"
   ]
  },
  {
   "cell_type": "code",
   "execution_count": 282,
   "metadata": {},
   "outputs": [],
   "source": [
    "#Parachute Library\n",
    "\n",
    "#Drogue Parachute Options\n",
    "FruityChute15 = Parachute(15,43,1.5, \"FruityChute15\")\n",
    "FruityChute18 = Parachute(18,60,1.5, \"FruityChute18\")\n",
    "\n",
    "#Main Parachute Options\n",
    "FruityChute48Iris = Parachute(48,212.62,2.2, \"FruityChute48Iris\")\n",
    "FruityChute60Iris = Parachute(60,309,2.2, \"FruityChute60Iris\")"
   ]
  },
  {
   "cell_type": "code",
   "execution_count": 283,
   "metadata": {},
   "outputs": [],
   "source": [
    "#define the rocket class\n",
    "class Rocket:\n",
    "    def __init__(self, name, diameter, dryMass, CP, dryCG, Cd):\n",
    "        self.name = name\n",
    "        self.diameter = diameter\n",
    "        self.CA = pi*(diameter/2)**2\n",
    "        self.dryMass = dryMass\n",
    "        self.CP = CP\n",
    "        self.dryCG = dryCG\n",
    "        self.Cd = Cd\n",
    "        self.dryStabilityMarigin = (self.dryCG - self.CP)/self.diameter\n",
    "        \n",
    "    def printspecs(self): #function to print motor specs\n",
    "        print('Rocket:', color.BOLD , self , color.END)\n",
    "        print('Diameter:', round(self.diameter,2), 'in')\n",
    "        print('Cross-Sectional Area', round(self.CA,2), 'in2')\n",
    "        print('Dry Mass:', round(self.dryMass,2), 'g')\n",
    "        print('CP:', round(self.CP,2), 'in')\n",
    "        print('Dry CG:', round(self.dryCG,2), 'in')\n",
    "        print('Cd:', round(self.Cd,2))\n",
    "        print('Dry Stanility Marigin:', round(self.dryStabilityMarigin,2))\n",
    "        \n",
    "\n",
    "    def __str__(self):\n",
    "            return self.name #return name when print is called"
   ]
  },
  {
   "cell_type": "code",
   "execution_count": 284,
   "metadata": {},
   "outputs": [],
   "source": [
    "#Define Rocket Library\n",
    "\n",
    "Subscale2k18prediction = Rocket('Endavour',3,4634.75,31.7,42.7,0.44)\n",
    "#Subscale2k18prediction = Rocket('Endavour',3,rocketDryMass,CP,dryCG,0.44)\n",
    "#FullScale2k17 = Rocket('')\n",
    "Subscale2k17 = Rocket(\"She'll Be Right\",3,4.5e3,8*12-74.5,8*12-63.8,0.44)\n",
    "Fullscale2k17 = Rocket(\"Effective - 1\",3,5.14e3,94.75-74.4,94.75-59.8,0.44)"
   ]
  },
  {
   "cell_type": "code",
   "execution_count": 311,
   "metadata": {},
   "outputs": [
    {
     "data": {
      "text/plain": [
       "4500.0"
      ]
     },
     "execution_count": 311,
     "metadata": {},
     "output_type": "execute_result"
    }
   ],
   "source": [
    "Subscale2k17.dryMass"
   ]
  },
  {
   "cell_type": "code",
   "execution_count": 285,
   "metadata": {},
   "outputs": [
    {
     "name": "stdout",
     "output_type": "stream",
     "text": [
      "\u001b[4m ROCKET SELECTED: \u001b[0m\n",
      "Rocket: \u001b[1m Endavour \u001b[0m\n",
      "Diameter: 3 in\n",
      "Cross-Sectional Area 7.07 in2\n",
      "Dry Mass: 4634.75 g\n",
      "CP: 31.7 in\n",
      "Dry CG: 42.7 in\n",
      "Cd: 0.44\n",
      "Dry Stanility Marigin: 3.67\n",
      "\n",
      "\n",
      "\u001b[4m PARACHUTES SELECTED: \u001b[0m\n",
      "\u001b[1m  DROGUE: \u001b[0m\n",
      "Parachute: \u001b[1m FruityChute15 \u001b[0m\n",
      "     Diameter: 15 in\n",
      "     Area: 176.71 in2\n",
      "     Mass: 43 g\n",
      "     CD: 1.5\n",
      "\n",
      "  \u001b[1m MAIN: \u001b[0m\n",
      "Parachute: \u001b[1m FruityChute60Iris \u001b[0m\n",
      "     Diameter: 60 in\n",
      "     Area: 2827.43 in2\n",
      "     Mass: 309 g\n",
      "     CD: 2.2\n",
      "\n",
      "\n",
      "\u001b[4m MOTOR SELECTED: \u001b[0m\n",
      "Motor: \u001b[1m AeroTech_J420 \u001b[0m\n",
      "Wet Mass: 650 g\n",
      "Prop Mass: 345 g\n",
      "Dry Mass: 305 g \n",
      "\n"
     ]
    },
    {
     "data": {
      "image/png": "[encoded data removed]",
      "text/plain": [
       "<matplotlib.figure.Figure at 0x181186f2b0>"
      ]
     },
     "metadata": {},
     "output_type": "display_data"
    }
   ],
   "source": [
    "#Rocket Selection\n",
    "print(color.UNDERLINE, 'ROCKET SELECTED:', color.END)\n",
    "RocketSelected = Subscale2k18prediction\n",
    "RocketSelected.printspecs()\n",
    "\n",
    "print('\\n')\n",
    "\n",
    "#Parachute Selection\n",
    "drogueChuteSelected = FruityChute15\n",
    "mainChuteSelected = FruityChute60Iris\n",
    "\n",
    "print(color.UNDERLINE, 'PARACHUTES SELECTED:', color.END)\n",
    "\n",
    "print( color.BOLD ,' DROGUE:',color.END)\n",
    "drogueChuteSelected.printspecs()\n",
    "\n",
    "print('\\n ', color.BOLD, 'MAIN:', color.END)\n",
    "mainChuteSelected.printspecs()\n",
    "\n",
    "print('\\n')\n",
    "\n",
    "#Motor Selection\n",
    "print(color.UNDERLINE, 'MOTOR SELECTED:', color.END)\n",
    "motorSelected = J420\n",
    "\n",
    "motorSelected.printspecs()\n",
    "motorSelected.plotThrustCurve()\n",
    "\n"
   ]
  },
  {
   "cell_type": "code",
   "execution_count": 296,
   "metadata": {},
   "outputs": [
    {
     "name": "stdout",
     "output_type": "stream",
     "text": [
      "\u001b[1m SELECTED CONFIGURATION \u001b[0m\n",
      "Gross Lift Off Weight: 5.28 kg\n",
      "CP: 31.7 in\n",
      "CG: 38.31 in\n",
      "Static Stability Marigin: 2.29\n",
      "Thrust To Weight Ratio: 10.76\n"
     ]
    }
   ],
   "source": [
    "#Initial Conditions\n",
    "\n",
    "h = 0 #initial height\n",
    "v0 = 0 #initial velocity\n",
    "m0 = RocketSelected.dryMass + motorSelected.wetMass\n",
    "mMECO = RocketSelected.dryMass + motorSelected.dryMass\n",
    "g0 = 9.8 #m/s**2\n",
    "\n",
    "windSpeedmph = 0#mph\n",
    "windSpeedms = windSpeedmph*0.44704 #m/s\n",
    "\n",
    "launchRailLengthft = 8 #ft\n",
    "launchRailLengthm = launchRailLengthft*0.3048 #m\n",
    "\n",
    "mainChuteReleaseAlt = 800 #ft\n",
    "launchRailLengthm = mainChuteReleaseAlt*0.3048 #m\n",
    "\n",
    "#Static Stability Marigin for Selected Rocket and Motor\n",
    "\n",
    "###USER INPUT REQUIRED###\n",
    "motorLength = 18 #in (This will vary with motor selection and not included in the thrust curve txt data....)\n",
    "\n",
    "CG0 = (RocketSelected.dryMass*RocketSelected.dryCG + (motorLength/2)*motorSelected.wetMass)/(RocketSelected.dryMass + motorSelected.wetMass)\n",
    "CP = RocketSelected.CP\n",
    "StaticStabilityMariginSelected = (CG0 - CP)/RocketSelected.diameter\n",
    "\n",
    "print(color.BOLD, \"SELECTED CONFIGURATION\", color.END)\n",
    "print(\"Gross Lift Off Weight:\",round(m0*(10**-3),2),'kg')\n",
    "print(\"CP:\",round(CP,2),'in')\n",
    "print(\"CG:\",round(CG,2),'in')\n",
    "print(\"Static Stability Marigin:\", round(StaticStabilityMariginSelected,2))\n",
    "thrustToWeightRatio = max(motorSelected.thrustpoints) / (m0*(10**-3)*9.8)\n",
    "print(\"Thrust To Weight Ratio:\", round(thrustToWeightRatio,2))"
   ]
  },
  {
   "cell_type": "code",
   "execution_count": 304,
   "metadata": {},
   "outputs": [],
   "source": [
    "#Thrust Equation\n",
    "#F = g0 * ISP * (dm/dt)\n",
    "#F(t)/(g0 * ISP) = dm/dt\n",
    "#Euler\n",
    "#mi = m(i-1) + F(t)/(g0*ISP) * delta t\n",
    "\n",
    "tmax = 5\n",
    "steps = 1000\n",
    "times = linspace(0,tmax,steps)\n",
    "stepsize = tmax/steps\n",
    "masses = [m0]\n",
    "i = 0\n",
    "\n",
    "def dm(tdm):\n",
    "    DM = -(float(motorSelected.ThrustCurve(tdm)))/(g0*motorSelected.ISP)\n",
    "    return DM\n",
    "\n",
    "\n",
    "while i < len(times)-1:\n",
    "    timestep = times[i+1] - times[i]\n",
    "    mi = masses[i] + timestep * 10e3 * dm(times[i])\n",
    "    masses.append(mi)\n",
    "    i = i+1\n",
    "\n"
   ]
  },
  {
   "cell_type": "code",
   "execution_count": 305,
   "metadata": {},
   "outputs": [],
   "source": [
    "vdm = vectorize(dm)"
   ]
  },
  {
   "cell_type": "code",
   "execution_count": 308,
   "metadata": {},
   "outputs": [
    {
     "data": {
      "text/plain": [
       "0.005005005005005003"
      ]
     },
     "execution_count": 308,
     "metadata": {},
     "output_type": "execute_result"
    }
   ],
   "source": [
    "timestep"
   ]
  },
  {
   "cell_type": "code",
   "execution_count": 310,
   "metadata": {},
   "outputs": [
    {
     "data": {
      "text/plain": [
       "0.005005005005005005"
      ]
     },
     "execution_count": 310,
     "metadata": {},
     "output_type": "execute_result"
    }
   ],
   "source": [
    "times[1]"
   ]
  },
  {
   "cell_type": "code",
   "execution_count": 306,
   "metadata": {},
   "outputs": [
    {
     "data": {
      "text/plain": [
       "[<matplotlib.lines.Line2D at 0x1812375828>]"
      ]
     },
     "execution_count": 306,
     "metadata": {},
     "output_type": "execute_result"
    },
    {
     "data": {
      "image/png": "[encoded data removed]",
      "text/plain": [
       "<matplotlib.figure.Figure at 0x18123659e8>"
      ]
     },
     "metadata": {},
     "output_type": "display_data"
    }
   ],
   "source": [
    "plt.plot(times,vdm(times))"
   ]
  },
  {
   "cell_type": "code",
   "execution_count": 307,
   "metadata": {},
   "outputs": [
    {
     "data": {
      "text/plain": [
       "[<matplotlib.lines.Line2D at 0x18124af6a0>]"
      ]
     },
     "execution_count": 307,
     "metadata": {},
     "output_type": "execute_result"
    },
    {
     "data": {
      "image/png": "[encoded data removed]",
      "text/plain": [
       "<matplotlib.figure.Figure at 0x181236da20>"
      ]
     },
     "metadata": {},
     "output_type": "display_data"
    }
   ],
   "source": [
    "plt.plot(times,masses)"
   ]
  },
  {
   "cell_type": "code",
   "execution_count": 255,
   "metadata": {},
   "outputs": [
    {
     "data": {
      "text/plain": [
       "4634.75"
      ]
     },
     "execution_count": 255,
     "metadata": {},
     "output_type": "execute_result"
    }
   ],
   "source": [
    "RocketSelected.dryMass"
   ]
  },
  {
   "cell_type": "code",
   "execution_count": 256,
   "metadata": {},
   "outputs": [
    {
     "data": {
      "text/plain": [
       "345"
      ]
     },
     "execution_count": 256,
     "metadata": {},
     "output_type": "execute_result"
    }
   ],
   "source": [
    "motorSelected.propMass"
   ]
  },
  {
   "cell_type": "code",
   "execution_count": 215,
   "metadata": {},
   "outputs": [
    {
     "data": {
      "text/plain": [
       "177.26199407208188"
      ]
     },
     "execution_count": 215,
     "metadata": {},
     "output_type": "execute_result"
    }
   ],
   "source": [
    "motorSelected.totalI/(motorSelected.propMass * (10**(-3)) * 9.8)"
   ]
  },
  {
   "cell_type": "code",
   "execution_count": 295,
   "metadata": {},
   "outputs": [
    {
     "data": {
      "text/plain": [
       "193.1898833945008"
      ]
     },
     "execution_count": 295,
     "metadata": {},
     "output_type": "execute_result"
    }
   ],
   "source": [
    "motorSelected.ISP"
   ]
  },
  {
   "cell_type": "code",
   "execution_count": 294,
   "metadata": {},
   "outputs": [
    {
     "data": {
      "text/plain": [
       "0.34500000000000003"
      ]
     },
     "execution_count": 294,
     "metadata": {},
     "output_type": "execute_result"
    }
   ],
   "source": [
    "(motorSelected.propMass * (1e-3))"
   ]
  },
  {
   "cell_type": "code",
   "execution_count": 213,
   "metadata": {},
   "outputs": [
    {
     "data": {
      "text/plain": [
       "0.31833429226586096"
      ]
     },
     "execution_count": 213,
     "metadata": {},
     "output_type": "execute_result"
    }
   ],
   "source": [
    "(int(motorSelected.ThrustCurve(0.125)))/(g0*motorSelected.ISP)"
   ]
  },
  {
   "cell_type": "code",
   "execution_count": 193,
   "metadata": {},
   "outputs": [
    {
     "data": {
      "text/plain": [
       "0.376"
      ]
     },
     "execution_count": 193,
     "metadata": {},
     "output_type": "execute_result"
    }
   ],
   "source": [
    "motorSelected.propMass * 10e-4"
   ]
  },
  {
   "cell_type": "code",
   "execution_count": null,
   "metadata": {},
   "outputs": [],
   "source": []
  }
 ],
 "metadata": {
  "kernelspec": {
   "display_name": "Python 3",
   "language": "python",
   "name": "python3"
  },
  "language_info": {
   "codemirror_mode": {
    "name": "ipython",
    "version": 3
   },
   "file_extension": ".py",
   "mimetype": "text/x-python",
   "name": "python",
   "nbconvert_exporter": "python",
   "pygments_lexer": "ipython3",
   "version": "3.6.4"
  }
 },
 "nbformat": 4,
 "nbformat_minor": 2
}
